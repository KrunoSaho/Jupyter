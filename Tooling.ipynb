{
 "cells": [
  {
   "cell_type": "code",
   "execution_count": 19,
   "source": [
    "import matplotlib.pylab as pyl\r\n",
    "import numpy as np\r\n",
    "import pandas as pd"
   ],
   "outputs": [],
   "metadata": {}
  },
  {
   "cell_type": "code",
   "execution_count": 20,
   "source": [
    "SRC_BACKUP_EXCEL_DIR = 'E:/Diablo II Resurrected/backup/excel'\r\n",
    "DST_EXCEL_DIR = 'E:/Diablo II Resurrected/Data/global/excel'"
   ],
   "outputs": [],
   "metadata": {}
  },
  {
   "cell_type": "code",
   "execution_count": 21,
   "source": [
    "def restore_all():\r\n",
    "    import shutil\r\n",
    "    shutil.rmtree(DST_EXCEL_DIR)\r\n",
    "    shutil.copytree(SRC_BACKUP_EXCEL_DIR, DST_EXCEL_DIR)\r\n",
    "\r\n",
    "restore_all()"
   ],
   "outputs": [],
   "metadata": {}
  },
  {
   "cell_type": "code",
   "execution_count": 22,
   "source": [
    "class Database:\r\n",
    "\r\n",
    "    def __init__(self, name_of_file: str):\r\n",
    "        self.path = f'{DST_EXCEL_DIR}/{name_of_file}.txt'\r\n",
    "        self.data = pd.read_csv(self.path, sep=\"\\t\", dtype=object)\r\n",
    "    \r\n",
    "    def save(self):\r\n",
    "        self.data.to_csv(self.path, sep='\\t', mode='w', index=False)\r\n",
    "\r\n",
    "    def get_property(self, row: int, label: str):\r\n",
    "        return self.data.loc[row, label]\r\n",
    "\r\n",
    "    def set_property(self, row: int, label: str, value):\r\n",
    "        self.data.loc[row, label] = value\r\n",
    "\r\n",
    "    def mutate_property(self, row: int, label: str, fn):\r\n",
    "        x = self.get_property(row, label)\r\n",
    "        self.set_property(row, label, fn(x))"
   ],
   "outputs": [],
   "metadata": {}
  },
  {
   "cell_type": "code",
   "execution_count": 23,
   "source": [
    "charstats = Database('charstats')\r\n",
    "\r\n",
    "for i in range(8):\r\n",
    "    if i == 5: continue\r\n",
    "    charstats.set_property(i, 'RunVelocity', 16)\r\n",
    "    charstats.set_property(i, 'WalkVelocity', 13)\r\n",
    "    charstats.set_property(i, 'ManaRegen', 20) # 20 seconds to reach full mana\r\n",
    "\r\n",
    "charstats.set_property(1, 'ManaRegen', 25) # Sorc has warmth for a big boost, and generally the most mana.\r\n",
    "charstats.set_property(0, 'ManaRegen', 15)\r\n",
    "\r\n",
    "\r\n",
    "charstats.save()"
   ],
   "outputs": [],
   "metadata": {}
  },
  {
   "cell_type": "code",
   "execution_count": 24,
   "source": [
    "hirelings = Database('hireling')\r\n",
    "\r\n",
    "for i in range(120):\r\n",
    "    new_hp = int(hirelings.get_property(i, 'HP')) * 10\r\n",
    "    hirelings.set_property(i, 'HP', new_hp)\r\n",
    "\r\n",
    "hirelings.save()"
   ],
   "outputs": [],
   "metadata": {}
  },
  {
   "cell_type": "code",
   "execution_count": 25,
   "source": [
    "monstats = Database('monstats')\r\n",
    "\r\n",
    "# 'raise skeleton' monster\r\n",
    "monstats.set_property(363, 'Velocity', 16)\r\n",
    "monstats.set_property(363, 'Run', 24)\r\n",
    "\r\n",
    "monstats.set_property(363, 'Drain', 8)\r\n",
    "monstats.set_property(363, 'Drain(N)', 15)\r\n",
    "monstats.set_property(363, 'Drain(H)', 25)\r\n",
    "\r\n",
    "monstats.set_property(363, 'DamageRegen', 10) # (hp * dmgRgn) / 16 = actual regen\r\n",
    "\r\n",
    "monstats.mutate_property(363, 'minHP', lambda x: int(x) * 2)\r\n",
    "monstats.mutate_property(363, 'maxHP', lambda x: int(x) * 2)\r\n",
    "\r\n",
    "monstats.set_property(363, 'coldeffect', -50)\r\n",
    "monstats.set_property(363, 'coldeffect(N)', -25)\r\n",
    "monstats.set_property(363, 'coldeffect(H)', -10)\r\n",
    "\r\n",
    "monstats.save()"
   ],
   "outputs": [],
   "metadata": {}
  },
  {
   "cell_type": "code",
   "execution_count": 26,
   "source": [
    "skills = Database('skills')\r\n",
    "\r\n",
    "# raise skeleton without corpse\r\n",
    "skills.set_property(70, 'srvstfunc', '')\r\n",
    "skills.set_property(70, 'srvdofunc', 56)\r\n",
    "skills.set_property(70, 'cltstfunc', '')\r\n",
    "skills.set_property(70, 'cltdofunc', '')\r\n",
    "\r\n",
    "skills.set_property(70, 'InTown', 1)\r\n",
    "\r\n",
    "# tp in town\r\n",
    "skills.set_property(54, 'InTown', 1)\r\n",
    "\r\n",
    "skills.save()"
   ],
   "outputs": [],
   "metadata": {}
  },
  {
   "cell_type": "code",
   "execution_count": 27,
   "source": [
    "# frozen orb\r\n",
    "# skills.set_property(64, 'localdelay', 10)\r\n",
    "# skills.set_property(64, 'globaldelay', 0)\r\n",
    "\r\n",
    "# Skill synergy; par8 = 2 aka 2%\r\n",
    "skills.set_property(64, 'EDmgSymPerCalc', \"(skill('Ice Bolt'.blvl) + skill('Cold Mastery'.blvl))*par8\")\r\n",
    "\r\n",
    "# skills.set_property(64, 'mana', 65)\r\n",
    "\r\n",
    "skills.set_property(64, 'calc1', \"ln12 * (100 + skill('Ice Bolt'.blvl) * 10 + skill('Cold Mastery'.blvl)) / 100\")\r\n",
    "skills.set_property(64, 'calc2', \"ln34 * (100 + skill('Ice Bolt'.blvl) * 10 + skill('Cold Mastery'.blvl)) / 100\")\r\n",
    "\r\n",
    "skills.save()"
   ],
   "outputs": [],
   "metadata": {}
  },
  {
   "cell_type": "markdown",
   "source": [
    "1. Increase TP book to hold 100 scrolls.\r\n",
    "2. Make potions heal for 10-15 seconds.\r\n",
    "3. No stack reduction for Javelins and Arrows/Bolts."
   ],
   "metadata": {}
  },
  {
   "cell_type": "code",
   "execution_count": 28,
   "source": [
    "# TP, ID books, and keys\r\n",
    "misc = Database('misc')\r\n",
    "\r\n",
    "misc.set_property(10, 'maxstack', 100)\r\n",
    "misc.set_property(11, 'maxstack', 100)\r\n",
    "misc.set_property(35, 'maxstack', 100)\r\n",
    "\r\n",
    "misc.save()"
   ],
   "outputs": [],
   "metadata": {}
  },
  {
   "cell_type": "code",
   "execution_count": 29,
   "source": [
    "# Arrows + Bolts\r\n",
    "misc.set_property(18, 'minstack', 512)\r\n",
    "misc.set_property(18, 'maxstack', 512)\r\n",
    "\r\n",
    "misc.set_property(20, 'minstack', 512)\r\n",
    "misc.set_property(20, 'maxstack', 512)\r\n",
    "\r\n",
    "misc.save()"
   ],
   "outputs": [],
   "metadata": {}
  },
  {
   "cell_type": "code",
   "execution_count": 30,
   "source": [
    "# Javs\r\n",
    "weapons = Database('weapons')\r\n",
    "\r\n",
    "weapons.set_property(47, 'minstack', 512)\r\n",
    "weapons.set_property(47, 'maxstack', 512)\r\n",
    "\r\n",
    "weapons.save()"
   ],
   "outputs": [],
   "metadata": {}
  },
  {
   "cell_type": "code",
   "execution_count": 31,
   "source": [
    "# infinite ammo Jav\r\n",
    "skills.set_property(2, 'srvstfunc', '')\r\n",
    "skills.set_property(2, 'srvdofunc', '')\r\n",
    "\r\n",
    "skills.set_property(2, 'cltstfunc', '')\r\n",
    "skills.set_property(2, 'cltdofunc', '')\r\n",
    "\r\n",
    "skills.set_property(2, 'srvmissile', 'javelin')\r\n",
    "skills.set_property(2, 'cltmissile', 'javelin')\r\n",
    "\r\n",
    "skills.set_property(2, 'noammo', 1)\r\n",
    "\r\n",
    "# poison jav\r\n",
    "for idx in [15, 25, 20, 35, 24, 14]:\r\n",
    "    if skills.get_property(idx, 'srvstfunc') == '4':\r\n",
    "        print(skills.get_property(idx, 'skill'))\r\n",
    "        skills.set_property(idx, 'srvstfunc', '')\r\n",
    "        skills.set_property(idx, 'srvdofunc', '')\r\n",
    "\r\n",
    "        skills.set_property(idx, 'cltstfunc', '')\r\n",
    "        skills.set_property(idx, 'cltdofunc', '')\r\n",
    "\r\n",
    "    skills.set_property(idx, 'noammo', 1)\r\n",
    "    skills.set_property(idx, 'decquant', '')\r\n",
    "\r\n",
    "\r\n",
    "skills.save()"
   ],
   "outputs": [
    {
     "output_type": "stream",
     "name": "stdout",
     "text": [
      "Poison Javelin\n",
      "Plague Javelin\n",
      "Lightning Bolt\n",
      "Lightning Fury\n"
     ]
    }
   ],
   "metadata": {}
  }
 ],
 "metadata": {
  "interpreter": {
   "hash": "f6b59102810ef7b0d2bc2c766771896547c9c7f2c423c32754319f59f73a529b"
  },
  "kernelspec": {
   "name": "python3",
   "display_name": "Python 3.9.7 64-bit"
  },
  "language_info": {
   "codemirror_mode": {
    "name": "ipython",
    "version": 3
   },
   "file_extension": ".py",
   "mimetype": "text/x-python",
   "name": "python",
   "nbconvert_exporter": "python",
   "pygments_lexer": "ipython3",
   "version": "3.9.7"
  }
 },
 "nbformat": 4,
 "nbformat_minor": 4
}
