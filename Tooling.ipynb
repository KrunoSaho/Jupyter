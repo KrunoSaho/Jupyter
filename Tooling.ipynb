{
 "cells": [
  {
   "cell_type": "code",
   "execution_count": 547,
   "metadata": {},
   "outputs": [],
   "source": [
    "import matplotlib.pylab as pyl\n",
    "import numpy as np\n",
    "import pandas as pd"
   ]
  },
  {
   "cell_type": "code",
   "execution_count": 548,
   "metadata": {},
   "outputs": [],
   "source": [
    "SRC_BACKUP_EXCEL_DIR = 'E:/Diablo II Resurrected/backup/excel'\n",
    "DST_EXCEL_DIR = 'E:/Diablo II Resurrected/Data/global/excel'"
   ]
  },
  {
   "cell_type": "code",
   "execution_count": 549,
   "metadata": {},
   "outputs": [],
   "source": [
    "def restore_all():\n",
    "    import shutil\n",
    "    shutil.rmtree(DST_EXCEL_DIR)\n",
    "    shutil.copytree(SRC_BACKUP_EXCEL_DIR, DST_EXCEL_DIR)\n",
    "\n",
    "restore_all()"
   ]
  },
  {
   "cell_type": "code",
   "execution_count": 550,
   "metadata": {},
   "outputs": [],
   "source": [
    "class Database:\n",
    "\n",
    "    def __init__(self, name_of_file: str):\n",
    "        self.path = f'{DST_EXCEL_DIR}/{name_of_file}.txt'\n",
    "        self.data = pd.read_csv(self.path, sep=\"\\t\", dtype=object)\n",
    "    \n",
    "    def save(self):\n",
    "        self.data.to_csv(self.path, sep='\\t', mode='w', index=False)\n",
    "\n",
    "    def get_property(self, row: int, label: str):\n",
    "        return self.data.loc[row, label]\n",
    "\n",
    "    def set_property(self, row: int, label: str, value):\n",
    "        self.data.loc[row, label] = value\n",
    "\n",
    "    def mutate_property(self, row: int, label: str, fn):\n",
    "        x = self.get_property(row, label)\n",
    "        self.set_property(row, label, fn(x))"
   ]
  },
  {
   "cell_type": "code",
   "execution_count": 551,
   "metadata": {},
   "outputs": [],
   "source": [
    "charstats = Database('charstats')\n",
    "hirelings = Database('hireling')\n",
    "weapons = Database('weapons')\n",
    "misc = Database('misc')\n",
    "skills = Database('skills')\n",
    "skilldesc = Database('skilldesc')\n",
    "monstats = Database('monstats')\n",
    "missiles = Database('missiles')"
   ]
  },
  {
   "cell_type": "code",
   "execution_count": 552,
   "metadata": {},
   "outputs": [],
   "source": [
    "for i in range(8):\n",
    "    if i == 5:\n",
    "        continue\n",
    "    charstats.set_property(i, 'WalkVelocity', 13)\n",
    "    charstats.set_property(i, 'RunVelocity', 15)\n",
    "    charstats.set_property(i, 'ManaRegen', 20) # 20 seconds to reach full mana\n",
    "\n",
    "charstats.set_property(1, 'ManaRegen', 25) # Sorc has warmth for a big boost, and generally the most mana.\n",
    "charstats.set_property(0, 'ManaRegen', 15)"
   ]
  },
  {
   "cell_type": "code",
   "execution_count": 553,
   "metadata": {},
   "outputs": [
    {
     "name": "stdout",
     "output_type": "stream",
     "text": [
      "271: roguehire, 271\n",
      "338: act2hire, 338\n",
      "359: act3hire, 359\n",
      "561: act5hire1, 560\n",
      "562: act5hire2, 561\n"
     ]
    }
   ],
   "source": [
    "for i in range(120):\n",
    "    new_hp = int(hirelings.get_property(i, 'HP')) * 10\n",
    "    hirelings.set_property(i, 'HP', new_hp)\n",
    "\n",
    "mask = monstats.data['AI'].str.contains('Hireable', na=False)\n",
    "for i in monstats.data.loc[mask].index:\n",
    "    idx = int(i)\n",
    "\n",
    "    print(f\"{idx}: {monstats.get_property(idx, 'Id')}, {monstats.get_property(idx, '*hcIdx')}\")\n",
    "\n",
    "    monstats.set_property(idx, 'Velocity', 16)\n",
    "    monstats.set_property(idx, 'Run', 20)\n",
    "\n",
    "    monstats.set_property(idx, 'threat', 12)\n",
    "\n",
    "    monstats.set_property(idx, 'aidel', 0)\n",
    "    monstats.set_property(idx, 'aidel(N)', 0)\n",
    "    monstats.set_property(idx, 'aidel(H)', 0)\n",
    "\n",
    "    monstats.set_property(idx, 'aidist', 50)\n",
    "    monstats.set_property(idx, 'aidist(N)', 50)\n",
    "    monstats.set_property(idx, 'aidist(H)', 50)\n",
    "\n",
    "    monstats.set_property(idx, 'coldeffect', -50)\n",
    "    monstats.set_property(idx, 'coldeffect(N)', -33)\n",
    "    monstats.set_property(idx, 'coldeffect(H)', -25)\n",
    "    \n",
    "    monstats.mutate_property(idx, 'DamageRegen', lambda x: int(x) + 2)"
   ]
  },
  {
   "cell_type": "code",
   "execution_count": 554,
   "metadata": {},
   "outputs": [
    {
     "name": "stdout",
     "output_type": "stream",
     "text": [
      "Bulking claygolem\n",
      "Bulking bloodgolem\n",
      "Bulking irongolem\n",
      "Bulking firegolem\n",
      "Bulking valkyrie\n",
      "Bulking necroskeleton\n",
      "Bulking necromage\n",
      "Bulking eagle\n",
      "Bulking wolf\n"
     ]
    }
   ],
   "source": [
    "def increase_pet_survivability(pet_id: int):\n",
    "    monstats = Database('monstats')\n",
    "\n",
    "    print(f'Bulking {monstats.get_property(pet_id, \"Id\")}')\n",
    "\n",
    "    monstats.set_property(pet_id, \"aidel\", 1)\n",
    "    \n",
    "    monstats.set_property(pet_id, 'Velocity', 16)\n",
    "    monstats.set_property(pet_id, 'Run', 24)\n",
    "\n",
    "    monstats.set_property(pet_id, 'Drain', 8)\n",
    "    monstats.set_property(pet_id, 'Drain(N)', 15)\n",
    "    monstats.set_property(pet_id, 'Drain(H)', 25)\n",
    "\n",
    "    monstats.set_property(pet_id, 'DamageRegen', 10) # (hp * dmgRgn) / 16 = actual regen\n",
    "\n",
    "    monstats.mutate_property(pet_id, 'minHP', lambda x: int(x) * 5)\n",
    "    monstats.mutate_property(pet_id, 'maxHP', lambda x: int(x) * 5)\n",
    "    monstats.mutate_property(pet_id, 'MinHP(N)', lambda x: int(x) * 5)\n",
    "    monstats.mutate_property(pet_id, 'MaxHP(N)', lambda x: int(x) * 5)\n",
    "    monstats.mutate_property(pet_id, 'MinHP(H)', lambda x: int(x) * 5)\n",
    "    monstats.mutate_property(pet_id, 'MaxHP(H)', lambda x: int(x) * 5)\n",
    "\n",
    "    monstats.set_property(pet_id, 'coldeffect', -50)\n",
    "    monstats.set_property(pet_id, 'coldeffect(N)', -25)\n",
    "    monstats.set_property(pet_id, 'coldeffect(H)', -10)\n",
    "\n",
    "    monstats.set_property(pet_id, 'ResDm', 75)\n",
    "    monstats.set_property(pet_id, 'ResMa', 75)\n",
    "    monstats.set_property(pet_id, 'ResFi', 75)\n",
    "    monstats.set_property(pet_id, 'ResLi', 75)\n",
    "    monstats.set_property(pet_id, 'ResCo', 75)\n",
    "    monstats.set_property(pet_id, 'ResPo', 75)\n",
    "\n",
    "    monstats.set_property(pet_id, 'ResDm(N)', 75)\n",
    "    monstats.set_property(pet_id, 'ResMa(N)', 75)\n",
    "    monstats.set_property(pet_id, 'ResFi(N)', 75)\n",
    "    monstats.set_property(pet_id, 'ResLi(N)', 75)\n",
    "    monstats.set_property(pet_id, 'ResCo(N)', 75)\n",
    "    monstats.set_property(pet_id, 'ResPo(N)', 75)\n",
    "\n",
    "    monstats.set_property(pet_id, 'ResDm(H)', 75)\n",
    "    monstats.set_property(pet_id, 'ResMa(H)', 75)\n",
    "    monstats.set_property(pet_id, 'ResFi(H)', 75)\n",
    "    monstats.set_property(pet_id, 'ResLi(H)', 75)\n",
    "    monstats.set_property(pet_id, 'ResCo(H)', 75)\n",
    "    monstats.set_property(pet_id, 'ResPo(H)', 75)\n",
    "\n",
    "    monstats.save()\n",
    "\n",
    "def get_all_pets():\n",
    "    monstats = Database('monstats')\n",
    "    return [int(x) for x in monstats.data[monstats.data['AI'] == 'NecroPet']['*hcIdx']]\n",
    "\n",
    "for pet in get_all_pets():\n",
    "    increase_pet_survivability(pet)"
   ]
  },
  {
   "cell_type": "code",
   "execution_count": 555,
   "metadata": {},
   "outputs": [],
   "source": [
    "# raise skeleton without corpse\n",
    "skills.set_property(70, 'srvstfunc', '')\n",
    "skills.set_property(70, 'srvdofunc', 56)\n",
    "skills.set_property(70, 'cltstfunc', '')\n",
    "skills.set_property(70, 'cltdofunc', '')\n",
    "\n",
    "skills.set_property(70, 'InTown', 1)\n",
    "\n",
    "# tp in town\n",
    "skills.set_property(54, 'InTown', 1)"
   ]
  },
  {
   "cell_type": "code",
   "execution_count": 556,
   "metadata": {},
   "outputs": [],
   "source": [
    "# frozen orb\n",
    "# skills.set_property(64, 'localdelay', 10)\n",
    "# skills.set_property(64, 'globaldelay', 0)\n",
    "\n",
    "# Skill synergy; par8 = 2 aka 2%\n",
    "skills.set_property(64, 'EDmgSymPerCalc', \"(skill('Ice Bolt'.blvl) + skill('Cold Mastery'.blvl))*par8\")\n",
    "\n",
    "# skills.set_property(64, 'mana', 65)\n",
    "\n",
    "skills.set_property(64, 'calc1', \"ln12 * (100 + skill('Ice Bolt'.blvl) * 10 + skill('Cold Mastery'.blvl)) / 100\")\n",
    "skills.set_property(64, 'calc2', \"ln34 * (100 + skill('Ice Bolt'.blvl) * 10 + skill('Cold Mastery'.blvl)) / 100\")"
   ]
  },
  {
   "cell_type": "markdown",
   "metadata": {},
   "source": [
    "1. Increase TP book to hold 100 scrolls.\n",
    "2. Make potions heal for 10-15 seconds.\n",
    "3. No stack reduction for Javelins and Arrows/Bolts."
   ]
  },
  {
   "cell_type": "code",
   "execution_count": 557,
   "metadata": {},
   "outputs": [],
   "source": [
    "# TP, ID books, and keys\n",
    "misc.set_property(10, 'maxstack', 100)\n",
    "misc.set_property(11, 'maxstack', 100)\n",
    "misc.set_property(35, 'maxstack', 100)"
   ]
  },
  {
   "cell_type": "code",
   "execution_count": 558,
   "metadata": {},
   "outputs": [],
   "source": [
    "# Arrows + Bolts\n",
    "misc.set_property(18, 'minstack', 512)\n",
    "misc.set_property(18, 'maxstack', 512)\n",
    "\n",
    "misc.set_property(20, 'minstack', 512)\n",
    "misc.set_property(20, 'maxstack', 512)"
   ]
  },
  {
   "cell_type": "code",
   "execution_count": 559,
   "metadata": {},
   "outputs": [],
   "source": [
    "# Javs\n",
    "weapons.set_property(47, 'minstack', 512)\n",
    "weapons.set_property(47, 'maxstack', 512)"
   ]
  },
  {
   "cell_type": "code",
   "execution_count": 560,
   "metadata": {},
   "outputs": [
    {
     "name": "stdout",
     "output_type": "stream",
     "text": [
      "Poison Javelin\n",
      "Plague Javelin\n",
      "Lightning Bolt\n",
      "Lightning Fury\n"
     ]
    }
   ],
   "source": [
    "# infinite ammo Jav\n",
    "skills.set_property(2, 'srvstfunc', '')\n",
    "skills.set_property(2, 'srvdofunc', '')\n",
    "\n",
    "skills.set_property(2, 'cltstfunc', '')\n",
    "skills.set_property(2, 'cltdofunc', '')\n",
    "\n",
    "skills.set_property(2, 'srvmissile', 'javelin')\n",
    "skills.set_property(2, 'cltmissile', 'javelin')\n",
    "\n",
    "skills.set_property(2, 'noammo', 1)\n",
    "\n",
    "# poison jav\n",
    "for idx in [15, 25, 20, 35, 24, 14]:\n",
    "    if skills.get_property(idx, 'srvstfunc') == '4':\n",
    "        print(skills.get_property(idx, 'skill'))\n",
    "        skills.set_property(idx, 'srvstfunc', '')\n",
    "        skills.set_property(idx, 'srvdofunc', '')\n",
    "\n",
    "        skills.set_property(idx, 'cltstfunc', '')\n",
    "        skills.set_property(idx, 'cltdofunc', '')\n",
    "\n",
    "    skills.set_property(idx, 'noammo', 1)\n",
    "    skills.set_property(idx, 'decquant', '')"
   ]
  },
  {
   "cell_type": "code",
   "execution_count": 561,
   "metadata": {},
   "outputs": [],
   "source": [
    "# Assassin's Quickness skill\n",
    "# Param5 and Param6 = (base duration and duration/lvl)\n",
    "\n",
    "skills.set_property(258, 'Param5', int(16.666667 * 300 * 5))\n",
    "skills.set_property(258, 'Param6', 1000)"
   ]
  },
  {
   "cell_type": "code",
   "execution_count": 562,
   "metadata": {},
   "outputs": [],
   "source": [
    "# Wake of Inferno buff [add physical damage and scale it off weapon by 50%]\n",
    "skills.set_property(272, 'HitShift', 8) # this scales tick damage from [1 -> 8]/8\n",
    "\n",
    "# Death Sentry Buff\n",
    "skills.set_property(272, 'EDmgSymPerCalc', \"(skill('Lightning Sentry'.lvl))*par8\")\n",
    "\n",
    "# increase shots\n",
    "mask = skills.data['skilldesc'].str.contains('sentry', na=False)\n",
    "for i in skills.data[mask]['*Id']:\n",
    "    idx = int(i)\n",
    "    skills.set_property(idx, 'Param1', 999)\n",
    "\n",
    "# secondary skills that have to match the above\n",
    "mask = skills.data['*Param8 Description'].str.contains('# of shots', na=False)\n",
    "for i in skills.data[mask]['*Id']:\n",
    "    idx = int(i)\n",
    "    skills.set_property(idx, 'Param8', 999)"
   ]
  },
  {
   "cell_type": "code",
   "execution_count": 563,
   "metadata": {},
   "outputs": [],
   "source": [
    "# add a move only skill\n",
    "headers = {k: '' for k in skills.data.columns.values}\n",
    "data = headers | {\n",
    "        'skill': 'DoNothing', \n",
    "        '*Id': 365,\n",
    "        'skilldesc': 'donothing', \n",
    "        'leftskill': 1, \n",
    "        'rightskill': 1, \n",
    "        'cost add': 0,\n",
    "        '*eol': 0\n",
    "    }\n",
    "\n",
    "skills.data = skills.data.append(data, ignore_index=True)\n",
    "\n",
    "headers = {k: '' for k in skilldesc.data.columns.values}\n",
    "data = headers | {\n",
    "        'skilldesc': 'donothing',\n",
    "        'SkillPage': 0,\n",
    "        'SkillRow': 0,\n",
    "        'SkillColumn': 0,\n",
    "        'ListRow': 0,\n",
    "        'IconCel': 0,\n",
    "        'str name': 'SkillNameDoNothing',\n",
    "        'str short': 'SkillDescDoNothing',\n",
    "        'str long': 'SkillDescDoNothing',\n",
    "        'str alt': 'SkillNameDoNothing',\n",
    "        '*eol': 0\n",
    "    }\n",
    "\n",
    "skilldesc.data = skilldesc.data.append(data, ignore_index=True)\n",
    "\n",
    "for i in range(8):\n",
    "    if i == 5:\n",
    "        continue\n",
    "    charstats.set_property(i+1, 'Skill 10', 'DoNothing')"
   ]
  },
  {
   "cell_type": "code",
   "execution_count": 564,
   "metadata": {},
   "outputs": [],
   "source": [
    "# add a missile that will do the base source damage as splash\n",
    "data_to_copy = {k: v for k, v in \n",
    "    zip(missiles.data.columns.values,\n",
    "    missiles.data[missiles.data['Missile'].str.fullmatch('fireball')].values[0])\n",
    "}\n",
    "\n",
    "data = data_to_copy | {\n",
    "        'Missile': 'meleesplash',\n",
    "        '*ID': missiles.data.tail(1).index.item() + 1,\n",
    "\n",
    "        'pCltDoFunc': 1,\n",
    "        'pCltHitFunc': 1,\n",
    "        'pSrvDoFunc': 1,\n",
    "        'pSrvHitFunc': 1,\n",
    "        'pSrvDmgFunc': '',\n",
    "\n",
    "        'sHitPar1': 3,\n",
    "        'cHitPar1': 3,\n",
    "        'cHitPar2': 1,\n",
    "\n",
    "        'EType': '',\n",
    "\n",
    "        'MissileSkill': 1,\n",
    "        'InitSteps': 0,\n",
    "        'Skill': 'Attack',\n",
    "        'Range': 25,\n",
    "\n",
    "        'ExplosionMissile': '',\n",
    "        'CltHitSubMissile1': '',\n",
    "\n",
    "        'TravelSound': '',\n",
    "        'HitSound': '',\n",
    "    }\n",
    "\n",
    "missiles.data = missiles.data.append(data, ignore_index=True)\n",
    "\n",
    "# add the last missile to attack\n",
    "skills.data.loc[0, ['srvmissile', 'cltmissile']] = 'meleesplash'"
   ]
  },
  {
   "cell_type": "code",
   "execution_count": 566,
   "metadata": {},
   "outputs": [],
   "source": [
    "charstats.save()\n",
    "hirelings.save()\n",
    "weapons.save()\n",
    "misc.save()\n",
    "skills.save()\n",
    "skilldesc.save()\n",
    "monstats.save()\n",
    "missiles.save()"
   ]
  }
 ],
 "metadata": {
  "interpreter": {
   "hash": "f6b59102810ef7b0d2bc2c766771896547c9c7f2c423c32754319f59f73a529b"
  },
  "kernelspec": {
   "display_name": "Python 3.9.7 64-bit",
   "name": "python3"
  },
  "language_info": {
   "codemirror_mode": {
    "name": "ipython",
    "version": 3
   },
   "file_extension": ".py",
   "mimetype": "text/x-python",
   "name": "python",
   "nbconvert_exporter": "python",
   "pygments_lexer": "ipython3",
   "version": "3.9.7"
  }
 },
 "nbformat": 4,
 "nbformat_minor": 4
}
