{
 "cells": [
  {
   "cell_type": "code",
   "execution_count": 12,
   "metadata": {
    "dotnet_interactive": {
     "language": "csharp"
    }
   },
   "outputs": [],
   "source": [
    "import random\n",
    "import matplotlib.pylab as pyl\n",
    "import math\n",
    "from scipy.optimize import root_scalar, RootResults"
   ]
  },
  {
   "cell_type": "code",
   "execution_count": 13,
   "metadata": {
    "dotnet_interactive": {
     "language": "csharp"
    }
   },
   "outputs": [
    {
     "data": {
      "text/plain": [
       "[<matplotlib.lines.Line2D at 0x22ad4c456f0>]"
      ]
     },
     "execution_count": 13,
     "metadata": {},
     "output_type": "execute_result"
    },
    {
     "data": {
      "image/png": "[encoded data removed]",
      "text/plain": [
       "<Figure size 432x288 with 1 Axes>"
      ]
     },
     "metadata": {},
     "output_type": "display_data"
    }
   ],
   "source": [
    "def fn(x):\n",
    "    match abs(int(x*10)):\n",
    "        case 0:\n",
    "            return .16\n",
    "        case 2:\n",
    "            return .13\n",
    "        case 5:\n",
    "            return .11\n",
    "        case 9:\n",
    "            return 1e-4\n",
    "        case _:\n",
    "            return x * (fn(x/2) if x < 100 else math.exp(x*x))\n",
    "\n",
    "pyl.plot([fn(x/100) for x in range(-100,101)])"
   ]
  },
  {
   "cell_type": "code",
   "execution_count": 14,
   "metadata": {},
   "outputs": [],
   "source": [
    "def calculate_fitness(population):\n",
    "    if type(population) == list:\n",
    "        return [(abs(fn(x)),x) for x in population]\n",
    "    else:\n",
    "        return abs(fn(population))\n",
    "\n",
    "def crossover_function(a, b):\n",
    "    rand_fun = random.random\n",
    "    rng = rand_fun()\n",
    "    if rng < .4888:\n",
    "        return (b-a)/2 + a*.1\n",
    "    elif rng < .88:\n",
    "        return (b-a)/2 + b*.1\n",
    "    else:\n",
    "        return (b-a)/2 + rand_fun()*.1\n",
    "\n",
    "def crossover(population, new_population_size: int):\n",
    "    rng = lambda: random.randint(0, len(population)-1)\n",
    "    choose = lambda: population[rng()]\n",
    "    xs = [crossover_function(choose(), choose()) for i in range(new_population_size)]\n",
    "    return xs"
   ]
  },
  {
   "cell_type": "code",
   "execution_count": 18,
   "metadata": {},
   "outputs": [
    {
     "name": "stdout",
     "output_type": "stream",
     "text": [
      "Best score:\n",
      "      converged: True\n",
      "           flag: 'converged'\n",
      " function_calls: 59\n",
      "     iterations: 58\n",
      "           root: -0.6000000000007168\n",
      "Lowest value @ root: -0.004320000000015484\n"
     ]
    },
    {
     "data": {
      "text/plain": [
       "(-0.00432, 0.0001)"
      ]
     },
     "execution_count": 18,
     "metadata": {},
     "output_type": "execute_result"
    }
   ],
   "source": [
    "best_result: RootResults = root_scalar(fn, bracket=[-1.0, 1.0])\n",
    "print(f\"Best score:\\n{best_result}\\nLowest value @ root: {fn(best_result.root)}\")\n",
    "fn(-0.6000000000000000), fn(-0.9999914207085816)"
   ]
  },
  {
   "cell_type": "code",
   "execution_count": 28,
   "metadata": {},
   "outputs": [
    {
     "name": "stdout",
     "output_type": "stream",
     "text": [
      "-0.903 scored 0.0001 in 2 iterations\n"
     ]
    }
   ],
   "source": [
    "def run_ga(population_size = 1000, domain_size = 100, population_percent_keep = 0.1, iterations=1_000_0):\n",
    "    domain = [i/10 for i in range(-domain_size,domain_size+1)]\n",
    "    population = [domain[random.randint(0, len(domain)-1)] for _ in range(population_size)]\n",
    "\n",
    "    for its in range(1_000_0):\n",
    "        population_by_fitness = [y for _, y in sorted(calculate_fitness(population))]\n",
    "\n",
    "        best_score = calculate_fitness(population_by_fitness[0])\n",
    "        if best_score <= 1e-4:\n",
    "            print(f'{population_by_fitness[0]} scored {best_score} in {its} iterations')\n",
    "            break\n",
    "\n",
    "        next_generation = population_by_fitness[:int(population_size*population_percent_keep)]\n",
    "        top_half = population_by_fitness[:int(population_size*0.5)]\n",
    "\n",
    "        next_generation.extend(crossover(top_half, int(population_size*(1.0 - population_percent_keep))))\n",
    "\n",
    "        population = next_generation\n",
    "\n",
    "run_ga(population_size=5, iterations=1_000_000_000_000)"
   ]
  }
 ],
 "metadata": {
  "kernelspec": {
   "display_name": "Python 3.10.5 64-bit",
   "language": "python",
   "name": "python3"
  },
  "language_info": {
   "codemirror_mode": {
    "name": "ipython",
    "version": 3
   },
   "file_extension": ".py",
   "mimetype": "text/x-python",
   "name": "python",
   "nbconvert_exporter": "python",
   "pygments_lexer": "ipython3",
   "version": "3.10.5"
  },
  "orig_nbformat": 4,
  "vscode": {
   "interpreter": {
    "hash": "cdf6f6e1b1825c7087f67cde7306e2e7683e2d68eea9f62d54810103f0931f34"
   }
  }
 },
 "nbformat": 4,
 "nbformat_minor": 2
}
